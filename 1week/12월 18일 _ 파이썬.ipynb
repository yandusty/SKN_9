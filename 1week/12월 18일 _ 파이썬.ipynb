{
 "cells": [
  {
   "cell_type": "markdown",
   "id": "db175b87",
   "metadata": {
    "jp-MarkdownHeadingCollapsed": true
   },
   "source": [
    "# 12월 18일 첫 수업.\n",
    "파이썬 개발환경 구축."
   ]
  },
  {
   "cell_type": "markdown",
   "id": "b1511106",
   "metadata": {},
   "source": [
    "오늘 강의 들은 내용을 올리는게 아니라\n",
    "> **들은 내용을 이용해서 풀은 문제** </br>\n",
    "\n",
    "또는 \n",
    "> **peer가 풀은 문제는 어떻게 뭐가 다른지 어떻게 개선 방향이 있는가..?** </br>"
   ]
  },
  {
   "cell_type": "markdown",
   "id": "7f3244ab",
   "metadata": {},
   "source": [
    "파이썬의 철학?\n",
    ">The Zen of Python, by Tim Peters\n",
    "(파이썬 철학, 팀 피터스) </br>\n",
    "Beautiful is better than ugly.\n",
    "(아름다운 것이 추한 것보다 낫다.)</br>\n",
    "Explicit is better than implicit.\n",
    "(명확한 것이 함축적인 것보다 낫다.)</br>\n",
    "Simple is better than complex.\n",
    "(단순한 것이 복잡한 것보다 낫다.)</br>\n",
    "Complex is better than complicated.\n",
    "(복잡한 것이 난해한 것보다 낫다.)</br>\n",
    "Flat is better than nested.\n",
    "(단조로운 것이 뒤엉킨 것보다 낫다.)</br>\n",
    "Sparse is better than dense.\n",
    "(분포되어 있는 것이 빽빽한 것보다 낫다.)</br>\n",
    "Readability counts.\n",
    "(가독성은 중요하다.)</br>\n",
    "Special cases aren't special enough to break the rules.\n",
    "(특별한 경우라 하더라도 규칙을 어길 수 있을 만큼 특별하지 않다.)</br>\n",
    "Although practicality beats purity.\n",
    "(비록 실용성이 순수함을 앞선다 할지라도.)</br>\n",
    "Errors should never pass silently.\n",
    "(오류를 절대로 조용히 넘기면 안 된다.)</br>\n",
    "Unless explicitly silenced.\n",
    "(분명하게 조용하지 않는 한.)</br>\n",
    "In the face of ambiguity, refuse the temptation to guess.\n",
    "(모호한 상황에서도 추측하려는 유혹을 떨쳐내야 한다.)</br>\n",
    "There should be one--and preferably only one--obvious way to do it.\n",
    "(그것을 할 수 있는 분명한 한 가지 방법이 있어야 한다. 그 방법이 유일하다면 더 좋다.)</br>\n",
    "Although that way may not be obvious at first unless you're Dutch.\n",
    "(네덜란드 사람(Guido van Rossum)이 아니라면, 처음에 그 방법이 분명하지 않을 수도 있다.)</br>\n",
    "Now is better than never.\n",
    "(지금 하는 것이 하지 않는 것보다 낫다.)</br>\n",
    "Although never is often better than *right* now.\n",
    "(비록 하지 않는 것이 종종 지금 *당장*하는 것보다 나을지라도.)</br>\n",
    "If the implementation is hard to explain, it's a bad idea.\n",
    "(구현한 것이 설명하기 어렵다면, 그것은 나쁜 아이디어다.)</br>\n",
    "If the implementation is easy to explain, it may be a good idea.\n",
    "(구현한 것이 설명하기 쉽다면, 그것은 좋은 아이디어일 것이다.)</br>\n",
    "Namespaces are one honking great idea--let's do more of those!\n",
    "(네임스페이스는 정말 좋은 아이디어다. 더 많이 사용하자!)</br>"
   ]
  },
  {
   "cell_type": "markdown",
   "id": "068d2534",
   "metadata": {},
   "source": [
    "말미에 어플 개발에 사용하는 자바스크립트."
   ]
  },
  {
   "cell_type": "markdown",
   "id": "29ab6bbf",
   "metadata": {},
   "source": [
    "모듈? -> 라이브러리 임포트.. 굉장히 다양하게 사용할 수 있고,"
   ]
  },
  {
   "cell_type": "markdown",
   "id": "5a13ceea",
   "metadata": {},
   "source": [
    "신입에게 좋은 회사는 성장하는 스타트업 회사, 요즘 회사</br>\n",
    "ㅡ> 계속 일자리를 바꿀 수 있도록 최신 기술을 다루는 곳을 가야한다."
   ]
  },
  {
   "cell_type": "markdown",
   "id": "1462c993-9c9c-4652-a118-74c4dd5a6122",
   "metadata": {},
   "source": [
    "## 성장하려는 사람"
   ]
  },
  {
   "cell_type": "markdown",
   "id": "dbf64e56-ae98-4802-97ab-b96ae8e71b94",
   "metadata": {
    "jp-MarkdownHeadingCollapsed": true
   },
   "source": [
    "- 경력직\n",
    "- 그를 따라가는 신입</br>\n",
    "    + 커뮤니케이션 능력 (팀프로젝트 이력) ㅡ> 말 잘 듣는 사람을 원함. (시키는 일만 잘하자?)\n",
    "    + 포트폴리오 (취업전장의 무기) ㅡ> 내가 어느 정도 할 수 있는 지를 보여주는.\n",
    "        - 도식화 시켜서 보여줘야함.\n",
    "    + 계속해서 공부를 해야한다. (본인만의 방식이 있는가.?) ㅡ> 의미있는 공부를 할 줄 알아야한다..\n",
    "        - 학습에 능숙한가?"
   ]
  },
  {
   "cell_type": "markdown",
   "id": "65d4fc68-84ee-4afd-8dd0-e97db0b82dcb",
   "metadata": {
    "jp-MarkdownHeadingCollapsed": true
   },
   "source": [
    "# 개발환경 설정"
   ]
  },
  {
   "cell_type": "markdown",
   "id": "66cf3004-23f6-4485-a69b-ad5048ec2a4f",
   "metadata": {},
   "source": []
  },
  {
   "cell_type": "markdown",
   "id": "338969bb-1394-4a77-8a1c-397c59cd5618",
   "metadata": {},
   "source": [
    "# 가상환경 설정"
   ]
  },
  {
   "cell_type": "markdown",
   "id": "051ac8bd-e1d0-4c9b-a844-f0cb9ec97e7b",
   "metadata": {},
   "source": [
    "> conda create -n [환경이름] [설치할 것들] </br>\n",
    "\n",
    "가상환경 생성</br>\n",
    "</br>\n",
    "사용할 커널 : ipykernel </br>\n",
    "사용할 앱 : jupyter notebook </br>\n",
    "> python -m ipykernel install --user --name [환경이름] --display-name [환경이름] </br>\n",
    "\n",
    "사용할 환경에 커널 연결해주기"
   ]
  },
  {
   "cell_type": "code",
   "execution_count": 1,
   "id": "2b0562f9-ce44-466e-a527-90a9f4bb213f",
   "metadata": {},
   "outputs": [
    {
     "name": "stdout",
     "output_type": "stream",
     "text": [
      "hello world\n"
     ]
    }
   ],
   "source": [
    "print('hello world')"
   ]
  },
  {
   "cell_type": "markdown",
   "id": "4773fa79-eeac-4904-a3b7-37f318a104bb",
   "metadata": {},
   "source": [
    "# VSC를 활용한 코드 돌리기"
   ]
  },
  {
   "attachments": {},
   "cell_type": "markdown",
   "id": "33d47a6c-3564-4942-9579-53f1c4258978",
   "metadata": {},
   "source": [
    "- 의도치 않은 에러</br>\n",
    "    최신 버전이라 그런건가? (버전이 맞지 않아서?)</br>"
   ]
  },
  {
   "cell_type": "markdown",
   "id": "ce65ea1b-8b86-4b82-8551-88a0cc4497fb",
   "metadata": {},
   "source": [
    "# 콘솔과 프린트와 주석에 대해서 알아보았다.\n",
    "- 자세한 내용 설명은 내일 이어서 진행할 예정이다."
   ]
  }
 ],
 "metadata": {
  "kernelspec": {
   "display_name": "SK_AI_9th",
   "language": "python",
   "name": "sk_ai_9th"
  },
  "language_info": {
   "codemirror_mode": {
    "name": "ipython",
    "version": 3
   },
   "file_extension": ".py",
   "mimetype": "text/x-python",
   "name": "python",
   "nbconvert_exporter": "python",
   "pygments_lexer": "ipython3",
   "version": "3.12.8"
  }
 },
 "nbformat": 4,
 "nbformat_minor": 5
}
