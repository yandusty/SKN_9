{
 "cells": [
  {
   "cell_type": "markdown",
   "id": "aae1d031",
   "metadata": {},
   "source": [
    "# 수업 오티\n",
    "## 첫 시작\n",
    "sk 회사에 대한 소개를 주로함."
   ]
  },
  {
   "cell_type": "markdown",
   "id": "6f744417",
   "metadata": {},
   "source": [
    "기간은 12월 18일부터 6월 중순까지"
   ]
  },
  {
   "cell_type": "markdown",
   "id": "9732d3c1",
   "metadata": {},
   "source": [
    "회사에서 문화생활을 시켜주네..."
   ]
  },
  {
   "cell_type": "markdown",
   "id": "5f354616",
   "metadata": {},
   "source": [
    "네트워크 구축을 통해서 문제해결.</br>\n",
    "- 분석에 AI를 활용.\n",
    "- 챗봇 --> 자질 구레한 케어를 위한."
   ]
  },
  {
   "cell_type": "markdown",
   "id": "2b88140d",
   "metadata": {},
   "source": [
    "vision, LLM, Multimodal 가능?"
   ]
  },
  {
   "cell_type": "markdown",
   "id": "b336b8e3",
   "metadata": {},
   "source": [
    "IOT(HOME AUTOMATION) ㅡ> AI 파워하우스 ㅋㅋ"
   ]
  },
  {
   "cell_type": "markdown",
   "id": "27540c66",
   "metadata": {},
   "source": [
    "gpt를 활용한 업무 효율 향상..\n",
    "자체 제작?"
   ]
  },
  {
   "cell_type": "markdown",
   "id": "c4a6d876",
   "metadata": {},
   "source": [
    "## 교육과정 소개"
   ]
  },
  {
   "cell_type": "markdown",
   "id": "ae81a344",
   "metadata": {},
   "source": [
    "python, DL, ㅡ> MLOPS (ML-ENGINEER) 이것이 최종 목적 </br>\n",
    "LLM을 통한 서비스를 개발하는 것.</br>"
   ]
  },
  {
   "cell_type": "markdown",
   "id": "30781797",
   "metadata": {},
   "source": [
    "자연어에 대한 컴파일러 | 인터프리터 같은 역할을 해준다고"
   ]
  },
  {
   "cell_type": "markdown",
   "id": "33ccf6e1",
   "metadata": {},
   "source": [
    "전체적인 관리를 해주시고, 강의도 해주실 예정임.\n",
    "나머지 한시간은?"
   ]
  },
  {
   "cell_type": "markdown",
   "id": "23be64e2",
   "metadata": {},
   "source": [
    "단위 프로젝트를 총 4번 진행 + 최종프로젝트.(정해진 주제로 한 개의 주제를 선정해서 팀플 진행.)"
   ]
  }
 ],
 "metadata": {
  "kernelspec": {
   "display_name": "Python 3 (ipykernel)",
   "language": "python",
   "name": "python3"
  },
  "language_info": {
   "codemirror_mode": {
    "name": "ipython",
    "version": 3
   },
   "file_extension": ".py",
   "mimetype": "text/x-python",
   "name": "python",
   "nbconvert_exporter": "python",
   "pygments_lexer": "ipython3",
   "version": "3.9.12"
  }
 },
 "nbformat": 4,
 "nbformat_minor": 5
}
